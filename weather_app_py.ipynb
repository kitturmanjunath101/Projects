{
  "nbformat": 4,
  "nbformat_minor": 0,
  "metadata": {
    "colab": {
      "provenance": [],
      "authorship_tag": "ABX9TyMrX9weGbyjZNxc9dMpyQ7Q",
      "include_colab_link": true
    },
    "kernelspec": {
      "name": "python3",
      "display_name": "Python 3"
    },
    "language_info": {
      "name": "python"
    }
  },
  "cells": [
    {
      "cell_type": "markdown",
      "metadata": {
        "id": "view-in-github",
        "colab_type": "text"
      },
      "source": [
        "<a href=\"https://colab.research.google.com/github/kitturmanjunath101/Projects/blob/main/weather_app_py.ipynb\" target=\"_parent\"><img src=\"https://colab.research.google.com/assets/colab-badge.svg\" alt=\"Open In Colab\"/></a>"
      ]
    },
    {
      "cell_type": "code",
      "execution_count": 7,
      "metadata": {
        "colab": {
          "base_uri": "https://localhost:8080/"
        },
        "id": "a-j4x5DbfgV8",
        "outputId": "3caaba18-6edf-46f5-d819-e4e37a160a77"
      },
      "outputs": [
        {
          "output_type": "stream",
          "name": "stdout",
          "text": [
            "Enter city name: Hubballi\n",
            "Weather in Hubballi: moderate rain\n",
            "Temperature: 28.13°C\n",
            "Humidity: 61%\n"
          ]
        }
      ],
      "source": [
        "import requests\n",
        "\n",
        "def get_weather(city_name, api_key):\n",
        "\n",
        "    base_url = \"https://api.openweathermap.org/data/2.5/weather\"\n",
        "\n",
        "    params = {\n",
        "        'q': city_name,\n",
        "        'appid': api_key,\n",
        "        'units': 'metric'\n",
        "    }\n",
        "\n",
        "\n",
        "    response = requests.get(base_url, params=params)\n",
        "\n",
        "    if response.status_code == 200:\n",
        "        data = response.json()\n",
        "        weather = data['weather'][0]['description']\n",
        "        temp = data['main']['temp']\n",
        "        humidity = data['main']['humidity']\n",
        "\n",
        "\n",
        "        print(f\"Weather in {city_name}: {weather}\")\n",
        "        print(f\"Temperature: {temp}°C\")\n",
        "        print(f\"Humidity: {humidity}%\")\n",
        "    else:\n",
        "        print(\" City not found. Please try again!\")\n",
        "\n",
        "# YOUR API KEY (replace below)\n",
        "api_key = 'cdd349282f5bb6ccace9adcfb45f40ca'\n",
        "\n",
        "\n",
        "city = input(\"Enter city name: \")\n",
        "get_weather(city, api_key)\n"
      ]
    }
  ]
}