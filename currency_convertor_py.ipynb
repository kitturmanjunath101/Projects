{
  "nbformat": 4,
  "nbformat_minor": 0,
  "metadata": {
    "colab": {
      "provenance": [],
      "authorship_tag": "ABX9TyMT/aIQc3yQsgYKIauv+BuZ",
      "include_colab_link": true
    },
    "kernelspec": {
      "name": "python3",
      "display_name": "Python 3"
    },
    "language_info": {
      "name": "python"
    }
  },
  "cells": [
    {
      "cell_type": "markdown",
      "metadata": {
        "id": "view-in-github",
        "colab_type": "text"
      },
      "source": [
        "<a href=\"https://colab.research.google.com/github/kitturmanjunath101/Projects/blob/main/currency_convertor_py.ipynb\" target=\"_parent\"><img src=\"https://colab.research.google.com/assets/colab-badge.svg\" alt=\"Open In Colab\"/></a>"
      ]
    },
    {
      "cell_type": "code",
      "execution_count": 4,
      "metadata": {
        "colab": {
          "base_uri": "https://localhost:8080/"
        },
        "id": "E2aPsuyYjm1n",
        "outputId": "fb749766-f8b2-484c-c21b-71ceeb28ba83"
      },
      "outputs": [
        {
          "output_type": "stream",
          "name": "stdout",
          "text": [
            "Enter amount to convert: 100\n",
            "Enter base currency (e.g., USD, EUR): INR\n",
            "Enter target currency (e.g., USD, INR): USD\n",
            "100.0 INR is equal to 1.17 USD\n"
          ]
        }
      ],
      "source": [
        "import requests\n",
        "\n",
        "def convert_currency(amount, from_currency, to_currency, api_key):\n",
        "\n",
        "    url = f\"https://v6.exchangerate-api.com/v6/{api_key}/latest/{from_currency}\"\n",
        "\n",
        "\n",
        "    response = requests.get(url)\n",
        "\n",
        "    if response.status_code == 200:\n",
        "        data = response.json()\n",
        "        conversion_rate = data['conversion_rates'].get(to_currency)\n",
        "\n",
        "        if conversion_rate:\n",
        "            converted_amount = amount * conversion_rate\n",
        "            print(f\"{amount} {from_currency} is equal to {converted_amount:.2f} {to_currency}\")\n",
        "        else:\n",
        "            print(f\" Invalid target currency: {to_currency}\")\n",
        "    else:\n",
        "        print(\"Failed to fetch data from the API. Please check the API key or try again later.\")\n",
        "\n",
        "\n",
        "api_key = 'e5109f1f537af7b1f5782a59'\n",
        "\n",
        "amount = float(input(\"Enter amount to convert: \"))\n",
        "from_currency = input(\"Enter base currency (e.g., USD, EUR): \").upper()\n",
        "to_currency = input(\"Enter target currency (e.g., USD, INR): \").upper()\n",
        "\n",
        "convert_currency(amount, from_currency, to_currency, api_key)\n"
      ]
    }
  ]
}