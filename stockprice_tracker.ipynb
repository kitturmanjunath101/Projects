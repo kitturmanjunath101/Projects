{
  "nbformat": 4,
  "nbformat_minor": 0,
  "metadata": {
    "colab": {
      "provenance": [],
      "authorship_tag": "ABX9TyMAADm5mb5Re31m8OhK4vah",
      "include_colab_link": true
    },
    "kernelspec": {
      "name": "python3",
      "display_name": "Python 3"
    },
    "language_info": {
      "name": "python"
    }
  },
  "cells": [
    {
      "cell_type": "markdown",
      "metadata": {
        "id": "view-in-github",
        "colab_type": "text"
      },
      "source": [
        "<a href=\"https://colab.research.google.com/github/kitturmanjunath101/Projects/blob/main/stockprice_tracker.ipynb\" target=\"_parent\"><img src=\"https://colab.research.google.com/assets/colab-badge.svg\" alt=\"Open In Colab\"/></a>"
      ]
    },
    {
      "cell_type": "code",
      "execution_count": 5,
      "metadata": {
        "colab": {
          "base_uri": "https://localhost:8080/"
        },
        "id": "ZdZgBUnCqchA",
        "outputId": "446b21b1-cfef-4da2-9857-64a495c444a9"
      },
      "outputs": [
        {
          "output_type": "stream",
          "name": "stdout",
          "text": [
            "Enter Indian stock symbols (comma-separated, e.g., RELIANCE, INFY, TCS): MRF\n",
            "📈 MRF (NSE): ₹128655.00\n"
          ]
        }
      ],
      "source": [
        "import yfinance as yf\n",
        "\n",
        "def get_multiple_stock_prices(symbols):\n",
        "    for symbol in symbols:\n",
        "        full_symbol = symbol.upper() + '.NS'  # Add '.NS' for NSE\n",
        "        stock = yf.Ticker(full_symbol)\n",
        "        data = stock.history(period=\"1d\")\n",
        "\n",
        "        if not data.empty:\n",
        "            price = data['Close'].iloc[-1]\n",
        "            print(f\"📈 {symbol.upper()} (NSE): ₹{price:.2f}\")\n",
        "        else:\n",
        "            print(f\"Stock {symbol.upper()} not found or wrong symbol!\")\n",
        "\n",
        "# Ask user for multiple symbols separated by commas\n",
        "user_input = input(\"Enter Indian stock symbols (comma-separated, e.g., RELIANCE, INFY, TCS): \")\n",
        "symbols_list = [s.strip() for s in user_input.split(\",\")]\n",
        "\n",
        "get_multiple_stock_prices(symbols_list)\n"
      ]
    }
  ]
}